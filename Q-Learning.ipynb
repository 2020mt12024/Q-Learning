{
 "cells": [
  {
   "cell_type": "markdown",
   "metadata": {},
   "source": [
    "# Environment"
   ]
  },
  {
   "cell_type": "markdown",
   "metadata": {},
   "source": [
    "<p>The Learning Agent is in search of the only gold box in the given static environment equipped with the metal detectors . The metal detectors are capable of sensing the metal in their own and all surrounding cells in their circumference.</p>\n",
    "<table>\n",
    "    <tr>\n",
    "        <td style=\"text-align: center;\">Environment<img src=\"Environment.png\" width=\"480\" height=\"480\"/></td>\n",
    "        <td style=\"text-align: center;\">Reward Matrix<img src=\"Rewards.png\" width=\"480\" height=\"480\"/></td>\n",
    "    </tr>\n",
    "</table>\n",
    "<ul>\n",
    "    <li>Agent initial battery is 10000 points.</li>\n",
    "    <li>Each Forward/Backward/Left/Right movement reduces 1 battery point.</li>\n",
    "    <li>Each Forward/Backward/Left/Right movement reduces 1 battery point.</li>\n",
    "    <li>We assume that the action/movement is deterministic.</li>\n",
    "    <li>Falling within range of metal detecting sensor cell reduces 100 battery point. <b style=\"color: red\">Here it assumed that if a cell is within range of two metal detecting sensor it will cause reduction of 200 battery points.</b></li>\n",
    "    <li>Finding gold box given 10000 battery points.</li>\n",
    "</ul>"
   ]
  },
  {
   "cell_type": "code",
   "execution_count": 1,
   "metadata": {},
   "outputs": [],
   "source": [
    "# Importing required libraries\n",
    "import numpy as np\n",
    "import matplotlib.pyplot as plt\n",
    "import random"
   ]
  },
  {
   "cell_type": "code",
   "execution_count": 2,
   "metadata": {},
   "outputs": [],
   "source": [
    "# As the environment is static & the agent's starting conditions are same, we define some global constants \n",
    "env_rows = 10\n",
    "env_cols = 10\n",
    "no_of_actions = 4\n",
    "initial_battery_points = 10000\n",
    "intitial_location = np.array([9,0])\n",
    "\n",
    "# We simplfy the movements of agent by assuming it always faces upwards & doesn't turn. \n",
    "# So Forward means up & Downward means down movement \n",
    "actions = np.array(['Forward', 'Right', 'Backward', 'Left'])"
   ]
  },
  {
   "cell_type": "markdown",
   "metadata": {},
   "source": [
    "# Reward"
   ]
  },
  {
   "cell_type": "code",
   "execution_count": 3,
   "metadata": {},
   "outputs": [],
   "source": [
    "# Since each movement costs 1 battery point we set -1 to all cells.\n",
    "# For right-bottom corner we add 10000 reward\n",
    "# For cell containing or adjacent to one metal detectors we substract 100 reward\n",
    "# For cell adjacent to two metal detectors we substract 200 reward\n",
    "rewards = np.array([[  -1,   -1,   -1,   -1,   -1,   -1,   -1, -101, -101, -101],\n",
    "                   [  -1,   -1, -101, -101, -101,   -1,   -1, -101, -101, -101],\n",
    "                   [  -1,   -1, -101, -101, -101,   -1, -101, -201, -201, -101],\n",
    "                   [-101, -101, -201, -101, -101,   -1, -101, -101, -101,   -1],\n",
    "                   [-101, -101, -201, -101, -101,   -1, -101, -101, -101,   -1],\n",
    "                   [-101, -101, -201, -101, -101,   -1,   -1,   -1,   -1,   -1],\n",
    "                   [  -1,   -1, -101, -101, -101,   -1,   -1,   -1,   -1,   -1],\n",
    "                   [  -1,   -1,   -1,   -1,   -1,   -1, -101, -101, -101,   -1],\n",
    "                   [  -1, -101, -101, -101,   -1,   -1, -101, -101, -101,   -1],\n",
    "                   [  -1, -101, -101, -101,   -1,   -1, -101, -101, -101, 9999]])\n",
    "# All Q table values zero\n",
    "q_table = np.zeros((env_rows, env_cols, no_of_actions)) "
   ]
  },
  {
   "cell_type": "markdown",
   "metadata": {},
   "source": [
    "# Algorithm"
   ]
  },
  {
   "cell_type": "markdown",
   "metadata": {},
   "source": [
    "Here the agent is learning based & there're rewards in the environment from which the agent has to learn about the best sequence of actions. There fore this is a case of <b>Reinforecement Learning</b> and we choose the <b>Q\n",
    "Learning</b> method to train the agent. \n",
    "\n",
    "We consider following as learning parameters\n",
    "<ul>\n",
    "    <li><b>epsilon (ϵ - Greedy)</b></li>\n",
    "        The ϵ parameter helps in trading off between exploration / exploitation. ϵ is chosen as a number between (0,1) and indicator of % of exploitation against exploration. During initial phase of training ϵ is kept relatively low so that agent explores more and updates Q values for explored state. As the training progresses the ϵ value is increased towards 1 so that exploitations is more compared to exploration.\n",
    "    <li><b>Discount Factor</b></li>\n",
    "        The discount factor (γ) is indicator of preference for current reward over expected future rewards. It lies within (0, 1) and kept constant throughout training.\n",
    "    <li><b>Learning rate</b></li>\n",
    "        This parameter (α) controls the rate of changes to Q-values as the training progresses. It is kept within (0,1) and kept constant throughout training.\n",
    "    <li><b>No of Episodes</b></li>\n",
    "        This parameter is for controlling the training period and usually kept at higher values such as 100, 1000, 10000 etc depending on the complexity of the training.\n",
    "</ul>"
   ]
  },
  {
   "cell_type": "code",
   "execution_count": 4,
   "metadata": {},
   "outputs": [],
   "source": [
    "# We define a dictionary for learning parameters\n",
    "lp0 =learning_parameters = {\n",
    "    \"epsilon\" : 0.1,\n",
    "    \"gamma\" : 0.99,\n",
    "    \"alpha\" : 0.99,\n",
    "    \"no_of_episodes\" : 100\n",
    "}"
   ]
  },
  {
   "cell_type": "markdown",
   "metadata": {},
   "source": [
    "Next we program the Q-Learning algorithm. We define some helper functions before the main function."
   ]
  },
  {
   "cell_type": "code",
   "execution_count": 5,
   "metadata": {},
   "outputs": [],
   "source": [
    "# Function to check if episode ended. Goal reached or battery euns out.\n",
    "def is_end_of_episode(curr_row_idx, curr_col_idx, batt_pts):\n",
    "    if batt_pts <= 0 or (curr_row_idx == 9 and curr_col_idx == 9):\n",
    "        return True\n",
    "    else:\n",
    "        return False \n",
    "\n",
    "def get_next_action_index(curr_row_idx, curr_col_idx, eps):\n",
    "    if np.random.random() <= eps:                                 # Exploitation\n",
    "        qs = q_table[curr_row_idx, curr_col_idx]\n",
    "        qsmaxidx = np.where(qs == qs.max())[0]\n",
    "        random.choice(qsmaxidx)\n",
    "        return random.choice(qsmaxidx)\n",
    "    else: #choose a random action\n",
    "        return np.random.randint(no_of_actions)                                # Exploration\n",
    "\n",
    "#define a function that will get the next location based on the chosen action\n",
    "def get_next_location_index(curr_row_idx, curr_col_idx, action_idx):\n",
    "    new_row_idx = curr_row_idx\n",
    "    new_col_idx = curr_col_idx\n",
    "    if actions[action_idx] == 'Forward' and curr_row_idx > 0:\n",
    "        new_row_idx -= 1\n",
    "    elif actions[action_idx] == 'Right' and curr_col_idx < env_cols - 1:\n",
    "        new_col_idx += 1\n",
    "    elif actions[action_idx] == 'Backward' and curr_row_idx < env_rows - 1:\n",
    "        new_row_idx += 1\n",
    "    elif actions[action_idx] == 'Left' and curr_col_idx > 0:\n",
    "        new_col_idx -= 1\n",
    "    return new_row_idx, new_col_idx\n",
    "\n",
    "def reset_q_table():                                                # For a fresh training \n",
    "    q_table = np.zeros((env_rows, env_cols, no_of_actions)) \n",
    "\n",
    "def q_learning(learning_parameters,print_Q):\n",
    "    #reset Q table before calling this function\n",
    "    \n",
    "    epsilon = learning_parameters[\"epsilon\"]                      # For using ϵ-Greedy strategy for selecting action\n",
    "    gamma = learning_parameters[\"gamma\"]                          # Discount Factor\n",
    "    alpha = learning_parameters[\"alpha\"]                          # Learning rate\n",
    "    no_of_episodes = learning_parameters[\"no_of_episodes\"]        # No of episodes \n",
    "    \n",
    "    episodes = []\n",
    "    rewards_received = []    \n",
    "    epsilons = []\n",
    "    \n",
    "    for episode in range(1,no_of_episodes+1):\n",
    "        row_index = intitial_location[0]\n",
    "        column_index = intitial_location[1]\n",
    "        battery_points = initial_battery_points\n",
    "        rewards_in_episode = 0\n",
    "        \n",
    "        while not is_end_of_episode(row_index, column_index, battery_points):\n",
    "            action_index = get_next_action_index(row_index, column_index, 1 - (1 - epsilon)/episode)\n",
    "            old_row_index, old_column_index = row_index, column_index    #store the old row and column indexes\n",
    "            row_index, column_index = get_next_location_index(row_index, column_index, action_index)\n",
    "            reward = rewards[row_index, column_index]\n",
    "            battery_points += reward\n",
    "            rewards_in_episode += reward\n",
    "            epsilons.append(1 - (1 - epsilon)/episode)\n",
    "            \n",
    "            q_old = q_table[old_row_index, old_column_index, action_index]\n",
    "            temp_diff = reward + (gamma * np.max(q_table[row_index, column_index])) - q_old\n",
    "\n",
    "            #update the Q-value for the previous state and action pair\n",
    "            q_new = q_old + (alpha * temp_diff)\n",
    "            q_table[old_row_index, old_column_index, action_index] = q_new\n",
    "        episodes.append(episode+1)\n",
    "        rewards_received.append(rewards_in_episode)        \n",
    "    print('Training Completed')\n",
    "    print(\"Reward Sum on All Episodes: \" + str (sum(rewards_received)/no_of_episodes))\n",
    "    if print_Q:\n",
    "        print(\"Final Q Table\")\n",
    "        np.set_printoptions(precision=1,suppress=True)\n",
    "        print(\"For Forward Action\")\n",
    "        print(q_table[:,:,0])\n",
    "        print(\"For Right Action\")\n",
    "        print(q_table[:,:,1])\n",
    "        print(\"For Backward Action\")\n",
    "        print(q_table[:,:,2])\n",
    "        print(\"For Left Action\")\n",
    "        print(q_table[:,:,3])\n",
    "    plt.xlabel('No of Episodes')\n",
    "    plt.ylabel('Rewards Received')\n",
    "    plt.plot(episodes, rewards_received)    \n",
    "    plt.show()"
   ]
  },
  {
   "cell_type": "code",
   "execution_count": 6,
   "metadata": {},
   "outputs": [
    {
     "name": "stdout",
     "output_type": "stream",
     "text": [
      "Training Completed\n",
      "Reward Sum on All Episodes: 9431.11\n",
      "Final Q Table\n",
      "For Forward Action\n",
      "[[  -6.7   -6.7   -6.7   -5.8   -6.7   -6.7   -5.8 -101.     0.     0. ]\n",
      " [  -5.8   -6.7   -1.    -4.9   -1.    -6.7   -5.8 -101.     0.     0. ]\n",
      " [  -5.8   -5.8 -101.  -100.     0.    -6.7   -4.8 -100.  -100.  -101. ]\n",
      " [  -2.    -2.  -100.  -100.  -100.    -5.8 -100.  -199.  -201.  -102. ]\n",
      " [   0.  -101.  -199.  -100.     0.    -6.7 -101.9 -100.  -100.    -3.9]\n",
      " [-100.  -200.  -199.  -100.     0.    -5.8 -102.  -100.  -100.    -3.9]\n",
      " [-102.  -103.9 -199.  -100.  -100.    -5.9   -4.9   -4.9 9406.1   -3. ]\n",
      " [ -12.1  -12.2 -100.  -104.8 -103.  9312.9   -2.    -2.  9505.    -2. ]\n",
      " [8762.1 8763.    -6.7   -7.6   -8.6 9214.2 -100.     0.     0.     0. ]\n",
      " [8673.5 -102.  -101.  -102.    -8.6   -8.6 -100.  -100.     0.     0. ]]\n",
      "For Right Action\n",
      "[[  -5.8   -5.8   -5.8   -5.8   -5.8   -5.8 -101.  -100.     0.     0. ]\n",
      " [  -7.6 -100.  -100.  -100.    -2.    -6.7 -101.  -100.     0.  -100. ]\n",
      " [  -5.8 -101.  -100.  -100.    -2.  -102.  -199.  -199.  -101.  -101. ]\n",
      " [-101.  -199.     0.  -101.    -1.  -102.9 -100.  -100.    -1.    -3.9]\n",
      " [-199.  -301.  -101.     0.    -2.  -101.  -100.  -100.    -1.    -3.9]\n",
      " [-102.9 -199.     0.     0.    -2.    -5.8   -4.9 9128.5   -3.9   -3.9]\n",
      " [ -11.3 -100.  -101.9 -102.    -5.8 9408.  9504.  9601.1 9699.  9602. ]\n",
      " [8851.6 8942.  9033.4 9125.6 9218.8 -102.  -100.  -100.    -1.    -1. ]\n",
      " [-110.3 -100.  -100.    -7.6   -8.6 -103.9 -101.  -100.  9701.    -1. ]\n",
      " [-107.6 -101.  -101.    -6.7   -9.4 -103.9 -101.  -100.     0.     0. ]]\n",
      "For Backward Action\n",
      "[[  -5.9   -6.7 -102.  -105.7 -101.    -6.8   -4.9 -101.     0.     0. ]\n",
      " [  -5.8   -6.7 -102.  -100.  -100.    -6.7 -102.  -199.  -199.  -101. ]\n",
      " [-102.9 -101.  -199.  -100.  -100.    -6.8 -100.  -100.  -100.    -2. ]\n",
      " [-100.  -100.  -199.     0.  -100.    -6.7 -100.  -100.  -100.    -3. ]\n",
      " [-100.  -101.  -199.  -100.     0.    -5.8   -2.    -3.9   -2.    -3. ]\n",
      " [  -3.9   -2.9 -100.  -100.  -100.    -6.7   -5.8   -4.9 9601.    -3. ]\n",
      " [ -12.2  -11.3   -2.9   -7.6 9034.3   -6.7 -102.  -101.  -101.  9798. ]\n",
      " [ -13.  -110.3 -102.  -100.    -7.7 8586.8 -100.  -100.  -100.  9898. ]\n",
      " [ -13.  -101.  -101.  -103.    -9.4   -8.6 -100.  -100.     0.  9999. ]\n",
      " [ -13.9 -101.  -100.  -102.9   -8.6   -8.6 -102.  -100.     0.     0. ]]\n",
      "For Left Action\n",
      "[[  -6.7   -6.7   -6.7   -6.7   -6.7   -6.7   -5.8   -2.9 -101.     0. ]\n",
      " [  -5.8   -6.7   -2.9 -100.  -100.  -100.    -6.7   -1.  -101.  -100. ]\n",
      " [  -6.7   -6.7   -4.8 -102.9 -100.  -101.    -2.  -100.  -199.  -199. ]\n",
      " [-101.  -100.  -101.     0.  -100.  -100.    -3.  -100.  -100.  -101. ]\n",
      " [-100.  -100.  -199.  -300.  -100.  -100.    -3.9 -100.  -100.  -100. ]\n",
      " [-100.  -100.  -100.     0.     0.  -100.    -5.8   -5.8   -3.9   -3. ]\n",
      " [ -12.1  -11.3   -1.  -100.  -100.  -102.    -6.7 9313.9   -3.9 9599.1]\n",
      " [ -12.2  -11.3  -10.4   -9.5   -7.7   -8.5 8762.3 -101.  -100.  -102. ]\n",
      " [8586.6  -10.4 -102.9 -100.  -102.    -7.7   -4.9 -104.9 -100.     0. ]\n",
      " [8499.7  -10.4 -102.9 -101.  -103.9   -8.6   -3.  -101.  -100.     0. ]]\n"
     ]
    },
    {
     "data": {
      "image/png": "[encoded data removed]",
      "text/plain": [
       "<Figure size 432x288 with 1 Axes>"
      ]
     },
     "metadata": {
      "needs_background": "light"
     },
     "output_type": "display_data"
    }
   ],
   "source": [
    "reset_q_table()\n",
    "q_learning(lp0,True)"
   ]
  },
  {
   "cell_type": "markdown",
   "metadata": {},
   "source": [
    "# Adjust the learning parameters"
   ]
  },
  {
   "cell_type": "code",
   "execution_count": 7,
   "metadata": {},
   "outputs": [],
   "source": [
    "# We create four more learning parameters set. We keep epsilon & no_of_episodes unchanged.\n",
    "\n",
    "lp1 = learning_parameters = {\n",
    "    \"epsilon\" : 0.01,\n",
    "    \"gamma\" : 0.01,\n",
    "    \"alpha\" : 0.01,\n",
    "    \"no_of_episodes\" : 100\n",
    "}\n",
    "lp2 = learning_parameters = {\n",
    "    \"epsilon\" : 0.01,\n",
    "    \"gamma\" : 0.01,\n",
    "    \"alpha\" : 0.99,\n",
    "    \"no_of_episodes\" : 100\n",
    "}\n",
    "lp3 = learning_parameters = {\n",
    "    \"epsilon\" : 0.01,\n",
    "    \"gamma\" : 0.99,\n",
    "    \"alpha\" : 0.01,\n",
    "    \"no_of_episodes\" : 100\n",
    "}\n",
    "lp4 = learning_parameters = {\n",
    "    \"epsilon\" : 0.01,\n",
    "    \"gamma\" : 0.5,\n",
    "    \"alpha\" : 0.5,\n",
    "    \"no_of_episodes\" : 100\n",
    "}"
   ]
  },
  {
   "cell_type": "code",
   "execution_count": 8,
   "metadata": {},
   "outputs": [
    {
     "name": "stdout",
     "output_type": "stream",
     "text": [
      "Training Completed\n",
      "Reward Sum on All Episodes: 9727.23\n"
     ]
    },
    {
     "data": {
      "image/png": "[encoded data removed]",
      "text/plain": [
       "<Figure size 432x288 with 1 Axes>"
      ]
     },
     "metadata": {
      "needs_background": "light"
     },
     "output_type": "display_data"
    }
   ],
   "source": [
    "reset_q_table()\n",
    "q_learning(lp1, False)"
   ]
  },
  {
   "cell_type": "code",
   "execution_count": 9,
   "metadata": {},
   "outputs": [
    {
     "name": "stdout",
     "output_type": "stream",
     "text": [
      "Training Completed\n",
      "Reward Sum on All Episodes: 9732.15\n"
     ]
    },
    {
     "data": {
      "image/png": "[encoded data removed]",
      "text/plain": [
       "<Figure size 432x288 with 1 Axes>"
      ]
     },
     "metadata": {
      "needs_background": "light"
     },
     "output_type": "display_data"
    }
   ],
   "source": [
    "reset_q_table()\n",
    "q_learning(lp2, False)"
   ]
  },
  {
   "cell_type": "code",
   "execution_count": 10,
   "metadata": {},
   "outputs": [
    {
     "name": "stdout",
     "output_type": "stream",
     "text": [
      "Training Completed\n",
      "Reward Sum on All Episodes: 9660.06\n"
     ]
    },
    {
     "data": {
      "image/png": "[encoded data removed]",
      "text/plain": [
       "<Figure size 432x288 with 1 Axes>"
      ]
     },
     "metadata": {
      "needs_background": "light"
     },
     "output_type": "display_data"
    }
   ],
   "source": [
    "reset_q_table()\n",
    "q_learning(lp3, False)"
   ]
  },
  {
   "cell_type": "code",
   "execution_count": 11,
   "metadata": {},
   "outputs": [
    {
     "name": "stdout",
     "output_type": "stream",
     "text": [
      "Training Completed\n",
      "Reward Sum on All Episodes: 9670.14\n"
     ]
    },
    {
     "data": {
      "image/png": "[encoded data removed]",
      "text/plain": [
       "<Figure size 432x288 with 1 Axes>"
      ]
     },
     "metadata": {
      "needs_background": "light"
     },
     "output_type": "display_data"
    }
   ],
   "source": [
    "reset_q_table()\n",
    "q_learning(lp4, False)"
   ]
  },
  {
   "cell_type": "markdown",
   "metadata": {},
   "source": [
    "From above we see that 2nd set of parameters {\"epsilon\" : 0.01, \"gamma\" : 0.01, \"alpha\" : 0.99, \"no_of_episodes\" : 100) has led to faster convergnce to solution with minimum noise. The results are subject to be different in different run (training). But for all cases the solution is converging after sufficient no of episodes. If general learning rate is higher it will converge faster provided exploaration actions are limited. "
   ]
  },
  {
   "cell_type": "markdown",
   "metadata": {},
   "source": [
    "# Optional"
   ]
  },
  {
   "cell_type": "markdown",
   "metadata": {},
   "source": [
    "Finally we try to move our agent to see if it follows the optimal path. It will the Q tables learned by the last training."
   ]
  },
  {
   "cell_type": "code",
   "execution_count": 12,
   "metadata": {},
   "outputs": [],
   "source": [
    "def optimal_path():\n",
    "    current_row_index, current_column_index = intitial_location[0], intitial_location[1]\n",
    "    battery_points = initial_battery_points\n",
    "    path_traverse = np.array([[current_row_index, current_column_index]])\n",
    "    #path_traverse = np.append(path_traverse, [current_row_index, current_column_index], axis=0)\n",
    "    \n",
    "    #continue moving along the path until we reach the goal (i.e., the item packaging location)\n",
    "    while not is_end_of_episode(current_row_index, current_column_index, battery_points):\n",
    "      #get the best action to take\n",
    "        action_index = get_next_action_index(current_row_index, current_column_index, 1.0) # epsilon 1 indicates 100% exploitation\n",
    "      #move to the next location on the path, and add the new location to the list\n",
    "        current_row_index, current_column_index = get_next_location_index(current_row_index, current_column_index, action_index)\n",
    "        reward = rewards[current_row_index, current_column_index]\n",
    "        battery_points += reward\n",
    "        path_traverse = np.append(path_traverse, [[current_row_index, current_column_index]], axis=0)\n",
    "    print('Path traversed by Agent')\n",
    "    print(path_traverse)\n",
    "    \n",
    "    plt.figure()\n",
    "    im = plt.imshow(rewards,interpolation='none', cmap=\"viridis\", aspect='equal', vmin=-200, vmax=100)\n",
    "\n",
    "    ax = plt.gca();\n",
    "\n",
    "    # Major ticks\n",
    "    ax.set_xticks(np.arange(0, 10, 1))\n",
    "    ax.set_yticks(np.arange(0, 10, 1))\n",
    "\n",
    "    # Labels for major ticks\n",
    "    ax.set_xticklabels(np.arange(0, 10, 1))\n",
    "    ax.set_yticklabels(np.arange(0, 10, 1))\n",
    "\n",
    "    # Minor ticks\n",
    "    ax.set_xticks(np.arange(-.5, 10, 1), minor=True)\n",
    "    ax.set_yticks(np.arange(-.5, 10, 1), minor=True)\n",
    "    plt.plot(path_traverse[:,1],path_traverse[:,0],color=\"r\")\n",
    "    # Gridlines based on minor ticks\n",
    "    ax.grid(which='minor', color='black', linestyle='-', linewidth=2)"
   ]
  },
  {
   "cell_type": "code",
   "execution_count": 13,
   "metadata": {},
   "outputs": [
    {
     "name": "stdout",
     "output_type": "stream",
     "text": [
      "Path traversed by Agent\n",
      "[[9 0]\n",
      " [8 0]\n",
      " [7 0]\n",
      " [7 1]\n",
      " [7 2]\n",
      " [7 3]\n",
      " [7 4]\n",
      " [7 5]\n",
      " [6 5]\n",
      " [6 6]\n",
      " [6 7]\n",
      " [6 8]\n",
      " [6 9]\n",
      " [7 9]\n",
      " [8 9]\n",
      " [9 9]]\n"
     ]
    },
    {
     "data": {
      "image/png": "[encoded data removed]",
      "text/plain": [
       "<Figure size 432x288 with 1 Axes>"
      ]
     },
     "metadata": {
      "needs_background": "light"
     },
     "output_type": "display_data"
    }
   ],
   "source": [
    "optimal_path()"
   ]
  },
  {
   "cell_type": "markdown",
   "metadata": {},
   "source": [
    "We observe that the agent has learned to travel along the optimal path"
   ]
  }
 ],
 "metadata": {
  "kernelspec": {
   "display_name": "Python 3",
   "language": "python",
   "name": "python3"
  },
  "language_info": {
   "codemirror_mode": {
    "name": "ipython",
    "version": 3
   },
   "file_extension": ".py",
   "mimetype": "text/x-python",
   "name": "python",
   "nbconvert_exporter": "python",
   "pygments_lexer": "ipython3",
   "version": "3.7.7"
  }
 },
 "nbformat": 4,
 "nbformat_minor": 4
}
